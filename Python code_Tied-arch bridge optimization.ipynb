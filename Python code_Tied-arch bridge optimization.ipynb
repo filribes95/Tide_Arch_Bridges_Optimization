{
  "nbformat": 4,
  "nbformat_minor": 0,
  "metadata": {
    "colab": {
      "provenance": [],
      "toc_visible": true
    },
    "kernelspec": {
      "name": "python3",
      "display_name": "Python 3"
    },
    "language_info": {
      "name": "python"
    }
  },
  "cells": [
    {
      "cell_type": "markdown",
      "source": [
        "# Tied-Arch Bridge Optimization"
      ],
      "metadata": {
        "id": "Ikupa1dSCRLs"
      }
    },
    {
      "cell_type": "markdown",
      "source": [
        "## Libraries"
      ],
      "metadata": {
        "id": "EQycfxj6nfB1"
      }
    },
    {
      "cell_type": "code",
      "source": [
        "# Import the appropriate libraries\n",
        "\n",
        "import math\n",
        "from math import sqrt"
      ],
      "metadata": {
        "id": "sH7vdB18BvV_"
      },
      "execution_count": null,
      "outputs": []
    },
    {
      "cell_type": "markdown",
      "source": [
        "## Constants"
      ],
      "metadata": {
        "id": "Z7SSM7ehUkxT"
      }
    },
    {
      "cell_type": "code",
      "source": [
        "# Define all the constants of the problem\n",
        "\n",
        "fyk = 355000  # [kN/m^2] --- Nominal yield strength of steel S355\n",
        "E = 2.1e8  # [kN/m^2] --- Young's Modulus\n",
        "L = 65  # [m] --- Span length\n",
        "Ai = 0.618  # [m^2] --- Cross-sectional area of the deck\n",
        "W = 0.656  # [m^3] --- Section modulus of the deck\n",
        "\n",
        "rho = 7850  # [kg/m^3] --- Steel density\n",
        "GWP = 2.044  # [-] --- Global Warming Potential for steel S355\n",
        "costS355 = 0.72  # [€/kg] --- Cost per kg of steel S355"
      ],
      "metadata": {
        "id": "Vd6gPWVzUj81"
      },
      "execution_count": null,
      "outputs": []
    },
    {
      "cell_type": "markdown",
      "source": [
        "## Dictionary for manual values"
      ],
      "metadata": {
        "id": "Xh5P8c9mJXFA"
      }
    },
    {
      "cell_type": "code",
      "source": [
        "# Define a dictionary that contains, for each row, all the values to be manually adjusted for each design scenario analyzed\n",
        "# Specifically, the first row contains the data for the original case study; subsequent rows contain the data for alternative design scenarios\n",
        "# Whenever a new design scenario needs to be added, simply add a new row to this dictionary, filling in all the indicated fields (Aa, f, Iy, Ix, etc.)\n",
        "\n",
        "studies = {\n",
        "    'original': {'Aa': 0.163, 'f': 6.89, 'Iy': 2.32e-2, 'Ix': 7.69e-3, 'N_Eda': 12498, 'N_Edi': 11810, 'V_Edi': 2000, 'M_Edi': 11911, 'alpha_cr': 9.11},\n",
        "    'case 1': {'Aa': 0.169, 'f': 2, 'Iy': 3.21e-2, 'Ix': 5.13e-3, 'N_Eda': 22458, 'N_Edi': 22348, 'V_Edi': 2743, 'M_Edi': 46540, 'alpha_cr': 8.07},\n",
        "    'case 2': {'Aa': 0.161, 'f': 4, 'Iy': 2.65e-2, 'Ix': 4.82e-3, 'N_Eda': 18140, 'N_Edi': 17810, 'V_Edi': 2562, 'M_Edi': 20373, 'alpha_cr': 8.53},\n",
        "    'case 3': {'Aa': 0.153, 'f': 6, 'Iy': 2.52e-2, 'Ix': 3.32e-3, 'N_Eda': 13880, 'N_Edi': 13338, 'V_Edi': 2214, 'M_Edi': 14466, 'alpha_cr': 10.03},\n",
        "    'case 4': {'Aa': 0.156, 'f': 8, 'Iy': 2.14e-2, 'Ix': 3.66e-3, 'N_Eda': 11273, 'N_Edi': 10525, 'V_Edi': 2063, 'M_Edi': 12033, 'alpha_cr': 10.08},\n",
        "    'case 5': {'Aa': 0.156, 'f': 10, 'Iy': 2.94e-2, 'Ix': 3.89e-3, 'N_Eda': 9547, 'N_Edi': 8609, 'V_Edi': 1996, 'M_Edi': 11253, 'alpha_cr': 10.06},\n",
        "}"
      ],
      "metadata": {
        "id": "AP5L5U3MIzJN"
      },
      "execution_count": null,
      "outputs": []
    },
    {
      "cell_type": "markdown",
      "source": [
        "## Dependent variables"
      ],
      "metadata": {
        "id": "spdbF2JdJKzQ"
      }
    },
    {
      "cell_type": "code",
      "source": [
        "# In this section, I use some of the values in the dictionary 'studies' to calculate dependent variables theta, r, C, S\n",
        "\n",
        "def calculate_S(case_data):\n",
        "    Aa = case_data.get('Aa', None)\n",
        "    f = case_data.get('f', None)\n",
        "\n",
        "    if Aa is not None and f is not None:\n",
        "        # Calculate dependent variables\n",
        "        theta = (f * 48) / 6.89  # [°]\n",
        "        r = (L / 2) * (1 / math.sin(math.radians(theta / 2)))  # [m]\n",
        "        C = 2 * math.pi * r  # [m]\n",
        "        S = (C * theta) / 360  # [m]\n",
        "\n",
        "        CO2eqe = rho * Aa * GWP * S  # [kg]\n",
        "\n",
        "        return theta, r, C, S\n",
        "    else:\n",
        "        return None\n",
        "\n",
        "# Print the values of dependent variables theta, r, C, S\n",
        "for case, study_data in studies.items():\n",
        "    result = calculate_S(study_data)\n",
        "    if result is not None:\n",
        "        theta, r, C, S = result\n",
        "        # Round the values to two decimal places and print in bold only the numbers\n",
        "        theta_str = \"{:.2f}\".format(theta)\n",
        "        r_str = \"{:.2f}\".format(r)\n",
        "        C_str = \"{:.2f}\".format(C)\n",
        "        S_str = \"{:.2f}\".format(S)\n",
        "        print(f'{case}: theta = \\033[1m{theta_str}\\033[0m, r = \\033[1m{r_str}\\033[0m, C = \\033[1m{C_str}\\033[0m, S = \\033[1m{S_str}\\033[0m')"
      ],
      "metadata": {
        "id": "CSwEolvwJJFA",
        "colab": {
          "base_uri": "https://localhost:8080/"
        },
        "outputId": "e6e1bda6-a350-40c0-9997-6e0f1082e563"
      },
      "execution_count": null,
      "outputs": [
        {
          "output_type": "stream",
          "name": "stdout",
          "text": [
            "original: theta = \u001b[1m48.00\u001b[0m, r = \u001b[1m79.90\u001b[0m, C = \u001b[1m502.05\u001b[0m, S = \u001b[1m66.94\u001b[0m\n",
            "case 1: theta = \u001b[1m13.93\u001b[0m, r = \u001b[1m267.95\u001b[0m, C = \u001b[1m1683.58\u001b[0m, S = \u001b[1m65.16\u001b[0m\n",
            "case 2: theta = \u001b[1m27.87\u001b[0m, r = \u001b[1m134.97\u001b[0m, C = \u001b[1m848.05\u001b[0m, S = \u001b[1m65.65\u001b[0m\n",
            "case 3: theta = \u001b[1m41.80\u001b[0m, r = \u001b[1m91.10\u001b[0m, C = \u001b[1m572.42\u001b[0m, S = \u001b[1m66.46\u001b[0m\n",
            "case 4: theta = \u001b[1m55.73\u001b[0m, r = \u001b[1m69.53\u001b[0m, C = \u001b[1m436.88\u001b[0m, S = \u001b[1m67.64\u001b[0m\n",
            "case 5: theta = \u001b[1m69.67\u001b[0m, r = \u001b[1m56.90\u001b[0m, C = \u001b[1m357.51\u001b[0m, S = \u001b[1m69.18\u001b[0m\n"
          ]
        }
      ]
    },
    {
      "cell_type": "markdown",
      "source": [
        "## Functions"
      ],
      "metadata": {
        "id": "hZnJip10CHpF"
      }
    },
    {
      "cell_type": "code",
      "source": [
        "# In this cell, I want to obtain the values of beta1, beta2, and N_cr useful for out-of-plane buckling analysis\n",
        "\n",
        "# Define how the beta1 parameter should vary for out-of-plane buckling analysis\n",
        "def close_to_outplane(y, low, high):\n",
        "    \"\"\" Given an input between two extremes, returns the value of the nearest extreme \"\"\"\n",
        "\n",
        "    # Define the width of the neighborhoods of y\n",
        "    middle_point_outplane = abs((low - high) / 2) + low\n",
        "\n",
        "    # If y is greater than or equal to the middle_point value, it should return high; otherwise, low\n",
        "    if y >= middle_point_outplane:\n",
        "        return high\n",
        "    else:\n",
        "        return low\n",
        "\n",
        "def get_beta1_and_Iy(case_data):\n",
        "    f = case_data.get('f', None)\n",
        "    Iy = case_data.get('Iy', None)\n",
        "    if f is not None and Iy is not None:\n",
        "        f_ratio = f / L\n",
        "\n",
        "        ratio_to_beta1 = {\n",
        "            0.05: 0.50,\n",
        "            0.10: 0.54,\n",
        "            0.20: 0.65,\n",
        "            0.30: 0.82,\n",
        "            0.40: 1.07,\n",
        "        }\n",
        "\n",
        "        if f_ratio <= 0.05:\n",
        "            return ratio_to_beta1[0.05], Iy\n",
        "        elif f_ratio >= 0.40:\n",
        "            return ratio_to_beta1[0.40], Iy\n",
        "        elif f_ratio < 0.10:\n",
        "            return ratio_to_beta1[close_to_outplane(f_ratio, 0.05, 0.10)], Iy\n",
        "        elif f_ratio < 0.20:\n",
        "            return ratio_to_beta1[close_to_outplane(f_ratio, 0.10, 0.20)], Iy\n",
        "        elif f_ratio < 0.30:\n",
        "            return ratio_to_beta1[close_to_outplane(f_ratio, 0.20, 0.30)], Iy\n",
        "        elif f_ratio < 0.40:\n",
        "            return ratio_to_beta1[close_to_outplane(f_ratio, 0.30, 0.40)], Iy\n",
        "    else:\n",
        "        return None, None\n",
        "\n",
        "# Print the values of beta1, beta2, and N_cr\n",
        "for case, study_data in studies.items():\n",
        "    beta1, Iy = get_beta1_and_Iy(study_data)\n",
        "    if beta1 is not None and Iy is not None:\n",
        "        beta2 = 0.65\n",
        "        N_cr = (3.14 / (beta1 * beta2 * (S / 2))) ** 2 * E * Iy\n",
        "        N_cr = round(N_cr)  # Round to the nearest integer\n",
        "\n",
        "        # Convert numerical values to strings and format in bold\n",
        "        beta1_str = \"{:.2f}\".format(beta1)\n",
        "        beta2_str = \"{:.2f}\".format(beta2)\n",
        "        N_cr_str = str(N_cr)\n",
        "\n",
        "        print(f'{case}: beta1 = \\033[1m{beta1_str}\\033[0m, beta2 = \\033[1m{beta2_str}\\033[0m, N_cr = \\033[1m{N_cr_str}\\033[0m')"
      ],
      "metadata": {
        "id": "WOT95Dt40MXo",
        "colab": {
          "base_uri": "https://localhost:8080/"
        },
        "outputId": "7f9cd7cd-a633-45f9-9a39-fb69446b0918"
      },
      "execution_count": null,
      "outputs": [
        {
          "output_type": "stream",
          "name": "stdout",
          "text": [
            "original: beta1 = \u001b[1m0.54\u001b[0m, beta2 = \u001b[1m0.65\u001b[0m, N_cr = \u001b[1m325840\u001b[0m\n",
            "case 1: beta1 = \u001b[1m0.50\u001b[0m, beta2 = \u001b[1m0.65\u001b[0m, N_cr = \u001b[1m525859\u001b[0m\n",
            "case 2: beta1 = \u001b[1m0.50\u001b[0m, beta2 = \u001b[1m0.65\u001b[0m, N_cr = \u001b[1m434120\u001b[0m\n",
            "case 3: beta1 = \u001b[1m0.54\u001b[0m, beta2 = \u001b[1m0.65\u001b[0m, N_cr = \u001b[1m353930\u001b[0m\n",
            "case 4: beta1 = \u001b[1m0.54\u001b[0m, beta2 = \u001b[1m0.65\u001b[0m, N_cr = \u001b[1m300559\u001b[0m\n",
            "case 5: beta1 = \u001b[1m0.65\u001b[0m, beta2 = \u001b[1m0.65\u001b[0m, N_cr = \u001b[1m284987\u001b[0m\n"
          ]
        }
      ]
    },
    {
      "cell_type": "code",
      "source": [
        "# In this cell, I want to obtain the value of K for each design scenario\n",
        "\n",
        "# Define how the K parameter should vary for snap-through analysis\n",
        "def close_to(x, low, high):\n",
        "    \"\"\" Given an input between two extremes, returns the value of the nearest extreme \"\"\"\n",
        "\n",
        "    # Define the width of the neighborhoods of x\n",
        "    middle_point = abs((low - high) / 2) + low\n",
        "\n",
        "    # If x is greater than or equal to the middle_point value, it should return high; otherwise, low\n",
        "    if x >= middle_point:\n",
        "        return high\n",
        "    else:\n",
        "        return low\n",
        "\n",
        "\n",
        "def get_K(case_data):\n",
        "    \"\"\" Given a case data dictionary, returns K \"\"\"\n",
        "    f = case_data.get('f', None)\n",
        "    if f is not None:\n",
        "        # Define the value of f_ratio\n",
        "        f_ratio = f / L\n",
        "\n",
        "        # Define a dictionary for K values\n",
        "        # I have indicated K1 for values that K can take in the case of a double-articulated arch\n",
        "        # I have indicated K2 for values that K can take in the case of a non-articulated arch\n",
        "        ratio_to_K = {\n",
        "            0.05: {'K1': 35, 'K2': 319},\n",
        "            0.075: {'K1': 23, 'K2': 97},\n",
        "            0.10: {'K1': 17, 'K2': 42},\n",
        "            0.15: {'K1': 10, 'K2': 13},\n",
        "            0.2: {'K1': 8, 'K2': 6},\n",
        "        }\n",
        "\n",
        "        # Determine the type of K to use based on f\n",
        "        # From the conducted experiments, I have seen that for f <= 4, it is very difficult to handle K2. Therefore, in this case, set K1, otherwise K2\n",
        "        K_type = 'K1' if f <= 4 else 'K2'\n",
        "\n",
        "        if f_ratio in ratio_to_K:\n",
        "            return ratio_to_K[f_ratio][K_type]\n",
        "        else:\n",
        "            # If f_ratio is not exactly in ratio_to_K, approximate to the nearest values\n",
        "            closest_ratio = min(ratio_to_K.keys(), key=lambda x: abs(x - f_ratio))\n",
        "            return ratio_to_K[closest_ratio][K_type]\n",
        "\n",
        "    return None\n",
        "\n",
        "# Print the values of K for each design scenario\n",
        "for case, study_data in studies.items():\n",
        "    K = get_K(study_data)\n",
        "    if K is not None:\n",
        "        # Convert the numerical value of K to a string and format in bold\n",
        "        K_str = str(K)\n",
        "        print(f'{case}: K = \\033[1m{K_str}\\033[0m')"
      ],
      "metadata": {
        "colab": {
          "base_uri": "https://localhost:8080/"
        },
        "id": "zST7dXkGFfW0",
        "outputId": "717a4c5d-5382-4fd2-e885-6d61157f1755"
      },
      "execution_count": null,
      "outputs": [
        {
          "output_type": "stream",
          "name": "stdout",
          "text": [
            "original: K = \u001b[1m42\u001b[0m\n",
            "case 1: K = \u001b[1m35\u001b[0m\n",
            "case 2: K = \u001b[1m35\u001b[0m\n",
            "case 3: K = \u001b[1m42\u001b[0m\n",
            "case 4: K = \u001b[1m42\u001b[0m\n",
            "case 5: K = \u001b[1m13\u001b[0m\n"
          ]
        }
      ]
    },
    {
      "cell_type": "code",
      "source": [
        "# In this cell, I calculate the objective function, i.e., the amount of steel required to build the bridge arch and the corresponding cost and CO2 emission values\n",
        "\n",
        "# Define the function to be optimized, i.e., the objective function\n",
        "def get_CO2eqe(study_data):\n",
        "    Aa, f, Iy, Ix, N_Eda, N_Edi, M_Edi, V_Edi, alpha_cr = (\n",
        "        study_data['Aa'], study_data['f'], study_data['Iy'], study_data['Ix'],\n",
        "        study_data['N_Eda'], study_data['N_Edi'],\n",
        "        study_data['M_Edi'], study_data['V_Edi'], study_data['alpha_cr']\n",
        "    )\n",
        "\n",
        "    # Within the objective function, define the constraints to which it will be subject\n",
        "\n",
        "    # Constraint: Calculate N_Rda (resistant compression stress N of the arch)\n",
        "    N_Rda = (fyk / 1.1) * Aa\n",
        "    #\"N_Rda should be compared with the N_Eda stress provided by Straus, which varies based on the geometry adopted by the arch, if I had the API\"\n",
        "\n",
        "    # Constraint: Calculate N_Rdi (resistant tension stress N of the deck)\n",
        "    N_Rdi = (fyk / 1.1) * Ai\n",
        "    #\"N_Rdi is a constant because the deck section always remains the same\"\n",
        "    #\"N_Rdi should be compared with the N_Edi stress provided by Straus, which varies based on the geometry adopted by the arch, if I had the API\"\n",
        "\n",
        "    # Constraint: Calculate M_Rdi (resistant bending moment M of the deck)\n",
        "    M_Rdi = (W * fyk) / 1.1\n",
        "    #\"M_Rdi is a constant because the deck section always remains the same\"\n",
        "    #\"M_Rdi should be compared with the M_Edi stress provided by Straus, which varies based on the geometry adopted by the arch, if I had the API\"\n",
        "\n",
        "    # Constraint: Calculate V_Rdi (resistant shear stress V of the deck)\n",
        "    V_Rdi = (fyk / (1.1 * sqrt(3))) * Ai\n",
        "    #\"V_Rdi is a constant because the deck section always remains the same\"\n",
        "    #\"V_Rdi should be compared with the V_Edi stress provided by Straus, which varies based on the geometry adopted by the arch, if I had the API\"\n",
        "\n",
        "    # Constraint: Snap-through\n",
        "    K = get_K(study_data) # Calculate K based on f\n",
        "    tmp = L * sqrt((E * Aa) / (12 * E * Ix))\n",
        "    #\"tmp is the value to be greater than K to satisfy the snap-through analysis\"\n",
        "\n",
        "\n",
        "\n",
        "    # Verify the constraints\n",
        "    if N_Rda <= N_Eda or N_Rdi <= N_Edi or M_Rdi <= M_Edi or V_Rdi <= V_Edi or N_cr <= N_Eda or tmp < K:\n",
        "        penalty = 1e9  # Set a high penalty if the constraints are not satisfied\n",
        "        weight_tot = 1e9\n",
        "        cost_tot = 1e9\n",
        "        CO2eqe = penalty\n",
        "        # Print \"Penalty\" if the penalty is activated\n",
        "        if N_Rda <= N_Eda:\n",
        "            print(\"Penalty N_Rda <= N_Eda\")\n",
        "        if N_Rdi <= N_Edi:\n",
        "            print(\"Penalty N_Rdi <= N_Edi\")\n",
        "        if M_Rdi <= M_Edi:\n",
        "            print(\"Penalty M_Rdi <= M_Edi\")\n",
        "        if V_Rdi <= V_Edi:\n",
        "            print(\"Penalty V_Rdi <= V_Edi\")\n",
        "        if N_cr <= N_Eda:\n",
        "            print(\"Penalty N_cr <= N_Eda\")\n",
        "        if tmp < K:\n",
        "            print(\"Penalty tmp < K\")\n",
        "\n",
        "    else:\n",
        "        # Calculate the value to be minimized\n",
        "\n",
        "        theta = (f * 48) / 6.89  # [°]\n",
        "        r = (L / 2) * (1 / math.sin(math.radians(theta / 2)))  # [m]\n",
        "        C = 2 * math.pi * r  # [m]\n",
        "        S = (C * theta) / 360  # [m]\n",
        "\n",
        "        weight_tot = rho * Aa * S  # [kg]\n",
        "        cost_tot = rho * Aa * costS355 * S  # [euros]\n",
        "        CO2eqe = rho * Aa * GWP * S  # [kg]\n",
        "\n",
        "    return \"{:.0f}\".format(weight_tot), \"{:.0f}\".format(cost_tot), \"{:.0f}\".format(CO2eqe)\n",
        "\n",
        "\n",
        "\n",
        "# Procedure to print Weight, Cost, and CO2eqe for each analyzed case\n",
        "for case, study_data in studies.items():\n",
        "    beta1, Iy = get_beta1_and_Iy(study_data)\n",
        "    if beta1 is not None and Iy is not None:\n",
        "        beta2 = 0.65\n",
        "        N_cr = (3.14 / (beta1 * beta2 * (S / 2))) ** 2 * E * Iy\n",
        "\n",
        "        # Call get_CO2eqe with appropriate values\n",
        "        weight_tot, cost_tot, CO2eqe = get_CO2eqe(study_data)\n",
        "\n",
        "        # Convert numerical values to strings and format in bold\n",
        "        weight_tot_str = str(weight_tot)\n",
        "        cost_tot_str = str(cost_tot)\n",
        "        CO2eqe_str = str(CO2eqe)\n",
        "\n",
        "        print(f'{case}: Weight = \\033[1m{weight_tot_str}\\033[0m, Cost = \\033[1m{cost_tot_str}\\033[0m, CO2eqe = \\033[1m{CO2eqe_str}\\033[0m')"
      ],
      "metadata": {
        "id": "_7X3MTI-d03z",
        "colab": {
          "base_uri": "https://localhost:8080/"
        },
        "outputId": "9d92484d-5ce6-4fa0-a6b6-93489ab03f5a"
      },
      "execution_count": null,
      "outputs": [
        {
          "output_type": "stream",
          "name": "stdout",
          "text": [
            "original: Weight = \u001b[1m85654\u001b[0m, Cost = \u001b[1m61671\u001b[0m, CO2eqe = \u001b[1m175076\u001b[0m\n",
            "case 1: Weight = \u001b[1m86445\u001b[0m, Cost = \u001b[1m62240\u001b[0m, CO2eqe = \u001b[1m176694\u001b[0m\n",
            "case 2: Weight = \u001b[1m82966\u001b[0m, Cost = \u001b[1m59735\u001b[0m, CO2eqe = \u001b[1m169582\u001b[0m\n",
            "case 3: Weight = \u001b[1m79827\u001b[0m, Cost = \u001b[1m57475\u001b[0m, CO2eqe = \u001b[1m163166\u001b[0m\n",
            "case 4: Weight = \u001b[1m82826\u001b[0m, Cost = \u001b[1m59635\u001b[0m, CO2eqe = \u001b[1m169296\u001b[0m\n",
            "case 5: Weight = \u001b[1m84722\u001b[0m, Cost = \u001b[1m61000\u001b[0m, CO2eqe = \u001b[1m173173\u001b[0m\n"
          ]
        }
      ]
    },
    {
      "cell_type": "code",
      "source": [
        "# In this cell, I want to obtain the phrases \"Second order analysis required\" or \"Second order analysis not required\" based on the value of alpha_cr for each design scenario\n",
        "\n",
        "def buckling(study):\n",
        "    alpha_cr = study.get('alpha_cr', None)\n",
        "\n",
        "    if alpha_cr is not None and alpha_cr >= 10:\n",
        "        return '\\033[1mSecond order analysis not required\\033[0m'\n",
        "    else:\n",
        "        return '\\033[1mSecond order analysis required\\033[0m'\n",
        "\n",
        "# Iterate over each case in the studies dictionary\n",
        "for case, study_data in studies.items():\n",
        "    result = buckling(study_data)\n",
        "\n",
        "    # Print the result with proper formatting\n",
        "    print(f'{case}: {result}')"
      ],
      "metadata": {
        "colab": {
          "base_uri": "https://localhost:8080/"
        },
        "id": "-umC46LuQIMn",
        "outputId": "2d45e9d7-84fb-4e79-9b5a-ab6fe45f5159"
      },
      "execution_count": null,
      "outputs": [
        {
          "output_type": "stream",
          "name": "stdout",
          "text": [
            "original: \u001b[1mSecond order analysis required\u001b[0m\n",
            "case 1: \u001b[1mSecond order analysis required\u001b[0m\n",
            "case 2: \u001b[1mSecond order analysis required\u001b[0m\n",
            "case 3: \u001b[1mSecond order analysis not required\u001b[0m\n",
            "case 4: \u001b[1mSecond order analysis not required\u001b[0m\n",
            "case 5: \u001b[1mSecond order analysis not required\u001b[0m\n"
          ]
        }
      ]
    },
    {
      "cell_type": "code",
      "source": [
        "# This cell is only for ensuring that, in the final results at the end of the process, the check for the second-order analysis is printed in bold\n",
        "\n",
        "def buckling(study):\n",
        "    if isinstance(study, dict):\n",
        "        alpha_cr = study.get('alpha_cr', None)\n",
        "    else:\n",
        "        alpha_cr = study\n",
        "\n",
        "    if alpha_cr is not None and alpha_cr >= 10:\n",
        "        return '\\033[1mSecond order analysis not required\\033[0m'\n",
        "    else:\n",
        "        return '\\033[1mSecond order analysis required\\033[0m'"
      ],
      "metadata": {
        "id": "uKkCqaOUqD5t"
      },
      "execution_count": null,
      "outputs": []
    },
    {
      "cell_type": "code",
      "source": [
        "# In this cell, I want to obtain the final results of the snap-through check (Positive or Negative check) and the corresponding value of K for each design scenario\n",
        "\n",
        "for case, study_data in studies.items():\n",
        "    # Call get_K with the appropriate values\n",
        "    K = get_K(study_data)\n",
        "    tmp = L * sqrt((E * study_data['Aa']) / (12 * E * study_data['Ix']))\n",
        "\n",
        "    # Snap-through check\n",
        "    if tmp > K:\n",
        "        snap_result = f'\\033[1mPositive check ({K})\\033[0m'\n",
        "    else:\n",
        "        snap_result = f'\\033[1mNegative check ({K})\\033[0m'\n",
        "\n",
        "    # Print the Snap result\n",
        "    print(f'{case}: {snap_result}')"
      ],
      "metadata": {
        "id": "6sZMkOGJS7x_",
        "colab": {
          "base_uri": "https://localhost:8080/"
        },
        "outputId": "2b7ec9b4-e831-4441-d5b0-da8438bd662a"
      },
      "execution_count": null,
      "outputs": [
        {
          "output_type": "stream",
          "name": "stdout",
          "text": [
            "original: \u001b[1mPositive check (42)\u001b[0m\n",
            "case 1: \u001b[1mPositive check (35)\u001b[0m\n",
            "case 2: \u001b[1mPositive check (35)\u001b[0m\n",
            "case 3: \u001b[1mPositive check (42)\u001b[0m\n",
            "case 4: \u001b[1mPositive check (42)\u001b[0m\n",
            "case 5: \u001b[1mPositive check (13)\u001b[0m\n"
          ]
        }
      ]
    },
    {
      "cell_type": "code",
      "source": [
        "# In this cell, I perform strength verifications\n",
        "\n",
        "# Strength check for arch compression\n",
        "def arch_compression_check(N_Rda, N_Eda):\n",
        "    return '\\033[1m==> Positive check\\033[0m' if N_Rda >= N_Eda else '\\033[1m==> Negative check\\033[0m'\n",
        "\n",
        "# Strength check for deck tension\n",
        "def deck_tension_check(N_Rdi, N_Edi):\n",
        "    return '\\033[1m==> Positive check\\033[0m' if N_Rdi >= N_Edi else '\\033[1m==> Negative check\\033[0m'\n",
        "\n",
        "# Strength check for deck shear\n",
        "def deck_shear_check(V_Rdi, V_Edi):\n",
        "    return '\\033[1m==> Positive check\\033[0m' if V_Rdi >= V_Edi else '\\033[1m==> Negative check\\033[0m'\n",
        "\n",
        "# Strength check for deck bending moment\n",
        "def deck_bendingmoment_check(M_Rdi, M_Edi):\n",
        "    return '\\033[1m==> Positive check\\033[0m' if M_Rdi >= M_Edi else '\\033[1m==> Negative check\\033[0m'\n",
        "\n",
        "# Snap-through check\n",
        "def snap_through_check(tmp, K):\n",
        "    return '\\033[1mPositive check\\033[0m' if tmp > K else '\\033[1mNegative check\\033[0m'\n",
        "\n",
        "# Iteration for each case\n",
        "for case, study_data in studies.items():\n",
        "    beta1, Iy = get_beta1_and_Iy(study_data)\n",
        "    if beta1 is not None and Iy is not None:\n",
        "        beta2 = 0.65\n",
        "        N_cr = (3.14 / (beta1 * beta2 * (S / 2))) ** 2 * E * Iy\n",
        "\n",
        "        # Call get_CO2eqe with the appropriate values\n",
        "        weight_tot, cost_tot, CO2eqe = get_CO2eqe(study_data)\n",
        "\n",
        "        # Call snap_through_check with the appropriate values\n",
        "        K = get_K(study_data)\n",
        "        tmp = L * sqrt((E * study_data['Aa']) / (12 * E * study_data['Ix']))\n",
        "        snap_result = snap_through_check(tmp, K)\n",
        "\n",
        "        # Strength verifications\n",
        "        arch_comp_result = arch_compression_check((fyk / 1.1) * study_data['Aa'], study_data['N_Eda'])\n",
        "        deck_tension_result = deck_tension_check((fyk / 1.1) * Ai, study_data['N_Edi'])\n",
        "        deck_shear_result = deck_shear_check((fyk / (1.1 * sqrt(3))) * Ai, study_data['V_Edi'])\n",
        "        deck_bending_result = deck_bendingmoment_check((W * fyk) / 1.1, study_data['M_Edi'])\n",
        "\n",
        "        # Print the strength verification results in bold\n",
        "        print(f'{case}: Arch Compression {arch_comp_result}, Deck Tension {deck_tension_result}, Deck Shear {deck_shear_result}, Deck Bending Moment {deck_bending_result}, Snap Through {snap_result}')"
      ],
      "metadata": {
        "id": "IzXk-ZFi6cWv",
        "colab": {
          "base_uri": "https://localhost:8080/"
        },
        "outputId": "e661b4f1-8f4a-4e29-da12-04326d9f7967"
      },
      "execution_count": null,
      "outputs": [
        {
          "output_type": "stream",
          "name": "stdout",
          "text": [
            "original: Arch Compression \u001b[1m==> Positive check\u001b[0m, Deck Tension \u001b[1m==> Positive check\u001b[0m, Deck Shear \u001b[1m==> Positive check\u001b[0m, Deck Bending Moment \u001b[1m==> Positive check\u001b[0m, Snap Through \u001b[1mPositive check\u001b[0m\n",
            "case 1: Arch Compression \u001b[1m==> Positive check\u001b[0m, Deck Tension \u001b[1m==> Positive check\u001b[0m, Deck Shear \u001b[1m==> Positive check\u001b[0m, Deck Bending Moment \u001b[1m==> Positive check\u001b[0m, Snap Through \u001b[1mPositive check\u001b[0m\n",
            "case 2: Arch Compression \u001b[1m==> Positive check\u001b[0m, Deck Tension \u001b[1m==> Positive check\u001b[0m, Deck Shear \u001b[1m==> Positive check\u001b[0m, Deck Bending Moment \u001b[1m==> Positive check\u001b[0m, Snap Through \u001b[1mPositive check\u001b[0m\n",
            "case 3: Arch Compression \u001b[1m==> Positive check\u001b[0m, Deck Tension \u001b[1m==> Positive check\u001b[0m, Deck Shear \u001b[1m==> Positive check\u001b[0m, Deck Bending Moment \u001b[1m==> Positive check\u001b[0m, Snap Through \u001b[1mPositive check\u001b[0m\n",
            "case 4: Arch Compression \u001b[1m==> Positive check\u001b[0m, Deck Tension \u001b[1m==> Positive check\u001b[0m, Deck Shear \u001b[1m==> Positive check\u001b[0m, Deck Bending Moment \u001b[1m==> Positive check\u001b[0m, Snap Through \u001b[1mPositive check\u001b[0m\n",
            "case 5: Arch Compression \u001b[1m==> Positive check\u001b[0m, Deck Tension \u001b[1m==> Positive check\u001b[0m, Deck Shear \u001b[1m==> Positive check\u001b[0m, Deck Bending Moment \u001b[1m==> Positive check\u001b[0m, Snap Through \u001b[1mPositive check\u001b[0m\n"
          ]
        }
      ]
    },
    {
      "cell_type": "markdown",
      "source": [
        "## Final results"
      ],
      "metadata": {
        "id": "lgthxcIQOIcg"
      }
    },
    {
      "cell_type": "code",
      "source": [
        "# In this cell, I want to summarize all the results of interest found for each design scenario\n",
        "\n",
        "def calculate_resistance_values(Aa):\n",
        "    N_Rda = (fyk / 1.1) * Aa\n",
        "    N_Rdi = (fyk / 1.1) * Ai\n",
        "    M_Rdi = (W * fyk) / 1.1\n",
        "    V_Rdi = (fyk / (1.1 * math.sqrt(3))) * Ai\n",
        "    return N_Rda, N_Rdi, M_Rdi, V_Rdi\n",
        "\n",
        "def print_results(Aa, f, Iy, Ix, N_Eda, N_Edi, M_Edi, V_Edi, alpha_cr, snap_result, N_Rda, N_Rdi, M_Rdi, V_Rdi, S):\n",
        "    print(f\"Design variable Aa: \\033[1m{Aa} m^2\\033[0m\")\n",
        "    print(\"Design variable f: \\033[1m{:.2f} m\\033[0m\".format(f))\n",
        "    print(f\"Dependent variable Iy: \\033[1m{Iy} m^4\\033[0m\")\n",
        "    print(f\"Dependent variable Ix: \\033[1m{Ix} m^4\\033[0m\")\n",
        "\n",
        "    # Print the first row of results below the \"Dependent variable Ix\" row\n",
        "    if result is not None:\n",
        "        theta, r, C, S = result\n",
        "        # Round values to two decimal places\n",
        "        theta = round(theta, 2)\n",
        "        r = round(r, 2)\n",
        "        C = round(C, 2)\n",
        "        S = round(S, 2)\n",
        "\n",
        "        # Print numerical values in bold\n",
        "        print(f'Design variables: theta = \\033[1m{theta}\\033[0m, r = \\033[1m{r}\\033[0m, C = \\033[1m{C}\\033[0m, S = \\033[1m{S}\\033[0m')\n",
        "\n",
        "    print(\"Comparison N_Eda & N_Rda: \\033[1m{:.2f} kN, {:.2f} kN\\033[0m\".format(N_Eda, N_Rda), arch_compression_check(N_Rda, N_Eda))\n",
        "    print(\"Comparison N_Edi & N_Rdi: \\033[1m{:.2f} kN, {:.2f} kN\\033[0m\".format(N_Edi, N_Rdi), deck_tension_check(N_Rdi, N_Edi))\n",
        "    print(\"Comparison V_Edi & V_Rdi: \\033[1m{:.2f} kN, {:.2f} kN\\033[0m\".format(V_Edi, V_Rdi), deck_shear_check(V_Rdi, V_Edi))\n",
        "    print(\"Comparison M_Edi & M_Rdi: \\033[1m{:.2f} kN m, {:.2f} kN m\\033[0m\".format(M_Edi, M_Rdi), deck_bendingmoment_check(M_Rdi, M_Edi))\n",
        "    print(\"Buckling check:\", buckling(alpha_cr))\n",
        "    print(\"Snap-through analysis:\", snap_result)\n",
        "    tmp = get_CO2eqe(study_data)\n",
        "    print(\"Objective function (weight_tot [kg], cost_tot [€], CO2eqe [kg]):\", tmp)\n",
        "    val_0 = int(tmp[0])\n",
        "    val_1 = int(tmp[1])\n",
        "    val_2 = int(tmp[2])\n",
        "    if val_2 < 175076:\n",
        "        print(f\"- kg of steel saved: \\033[1m{abs(val_0 - 85654)} kg\\033[0m;\")\n",
        "        print(f\"- Cost saved: \\033[1m{abs(val_1 - 61671)} €\\033[0m;\")\n",
        "        print(f\"- kg of CO2 emitted saved: \\033[1m{abs(val_2 - 175076)} kg\\033[0m;\")\n",
        "        print(f'Savings: \\033[1m{100 * abs(val_2 - 175076) / 175076:.2f} %\\033[0m')\n",
        "    else:\n",
        "        print(f'No savings; surplus: \\033[1m{100 * abs(val_2 - 175076) / 175076:.2f} %\\033[0m')\n",
        "        print(f\"- kg of steel exceeded: \\033[1m{abs(val_0 - 85654)} kg\\033[0m;\")\n",
        "        print(f\"- Cost exceeded: \\033[1m{abs(val_1 - 61671)} €\\033[0m;\")\n",
        "        print(f\"- kg of CO2 emitted exceeded: \\033[1m{abs(val_2 - 175076)} kg\\033[0m;\")\n",
        "\n",
        "# Iteration over all study cases\n",
        "for case, study_data in studies.items():\n",
        "    # Call calculate_resistance_values with the appropriate values\n",
        "    N_Rda, N_Rdi, M_Rdi, V_Rdi = calculate_resistance_values(study_data['Aa'])\n",
        "    result = calculate_S(study_data)\n",
        "    if result is not None:\n",
        "        theta, r, C, S = result\n",
        "        # Round values to two decimal places\n",
        "        theta = round(theta, 2)\n",
        "        r = round(r, 2)\n",
        "        C = round(C, 2)\n",
        "        S = round(S, 2)\n",
        "\n",
        "    # Call snap_through_check with the appropriate values\n",
        "    K = get_K(study_data) # Calculate K based on f\n",
        "    tmp = L * math.sqrt((E * study_data['Aa']) / (12 * E * study_data['Ix']))\n",
        "    snap_result = snap_through_check(tmp, K)\n",
        "\n",
        "    # Snap-through verification\n",
        "    if tmp > K:\n",
        "        snap_result = f'\\033[1mPositive check ({K})\\033[0m'\n",
        "    else:\n",
        "        snap_result = f'\\033[1mNegative check ({K})\\033[0m'\n",
        "\n",
        "    # Pass all necessary variables as arguments when calling print_results\n",
        "    print_results(snap_result=snap_result, N_Rda=N_Rda, N_Rdi=N_Rdi, M_Rdi=M_Rdi, V_Rdi=V_Rdi, S=S, **study_data)\n",
        "\n",
        "    print(\"-\" * 100) # This command is only for adding the dashed line that separates the various analyzed study cases (specifically, 100 dashes)"
      ],
      "metadata": {
        "colab": {
          "base_uri": "https://localhost:8080/"
        },
        "id": "uvv-S7HjmHjU",
        "outputId": "70c20ea6-2cce-41e3-973a-324bdd1da5eb"
      },
      "execution_count": null,
      "outputs": [
        {
          "output_type": "stream",
          "name": "stdout",
          "text": [
            "Design variable Aa: \u001b[1m0.163 m^2\u001b[0m\n",
            "Design variable f: \u001b[1m6.89 m\u001b[0m\n",
            "Dependent variable Iy: \u001b[1m0.0232 m^4\u001b[0m\n",
            "Dependent variable Ix: \u001b[1m0.00769 m^4\u001b[0m\n",
            "Design variables: theta = \u001b[1m48.0\u001b[0m, r = \u001b[1m79.9\u001b[0m, C = \u001b[1m502.05\u001b[0m, S = \u001b[1m66.94\u001b[0m\n",
            "Comparison N_Eda & N_Rda: \u001b[1m12498.00 kN, 52604.55 kN\u001b[0m \u001b[1m==> Positive check\u001b[0m\n",
            "Comparison N_Edi & N_Rdi: \u001b[1m11810.00 kN, 199445.45 kN\u001b[0m \u001b[1m==> Positive check\u001b[0m\n",
            "Comparison V_Edi & V_Rdi: \u001b[1m2000.00 kN, 115149.89 kN\u001b[0m \u001b[1m==> Positive check\u001b[0m\n",
            "Comparison M_Edi & M_Rdi: \u001b[1m11911.00 kN m, 211709.09 kN m\u001b[0m \u001b[1m==> Positive check\u001b[0m\n",
            "Buckling check: \u001b[1mSecond order analysis required\u001b[0m\n",
            "Snap-through analysis: \u001b[1mPositive check (42)\u001b[0m\n",
            "Objective function (weight_tot [kg], cost_tot [€], CO2eqe [kg]): ('85654', '61671', '175076')\n",
            "No savings; surplus: \u001b[1m0.00 %\u001b[0m\n",
            "- kg of steel exceeded: \u001b[1m0 kg\u001b[0m;\n",
            "- Cost exceeded: \u001b[1m0 €\u001b[0m;\n",
            "- kg of CO2 emitted exceeded: \u001b[1m0 kg\u001b[0m;\n",
            "----------------------------------------------------------------------------------------------------\n",
            "Design variable Aa: \u001b[1m0.169 m^2\u001b[0m\n",
            "Design variable f: \u001b[1m2.00 m\u001b[0m\n",
            "Dependent variable Iy: \u001b[1m0.0321 m^4\u001b[0m\n",
            "Dependent variable Ix: \u001b[1m0.00513 m^4\u001b[0m\n",
            "Design variables: theta = \u001b[1m13.93\u001b[0m, r = \u001b[1m267.95\u001b[0m, C = \u001b[1m1683.58\u001b[0m, S = \u001b[1m65.16\u001b[0m\n",
            "Comparison N_Eda & N_Rda: \u001b[1m22458.00 kN, 54540.91 kN\u001b[0m \u001b[1m==> Positive check\u001b[0m\n",
            "Comparison N_Edi & N_Rdi: \u001b[1m22348.00 kN, 199445.45 kN\u001b[0m \u001b[1m==> Positive check\u001b[0m\n",
            "Comparison V_Edi & V_Rdi: \u001b[1m2743.00 kN, 115149.89 kN\u001b[0m \u001b[1m==> Positive check\u001b[0m\n",
            "Comparison M_Edi & M_Rdi: \u001b[1m46540.00 kN m, 211709.09 kN m\u001b[0m \u001b[1m==> Positive check\u001b[0m\n",
            "Buckling check: \u001b[1mSecond order analysis required\u001b[0m\n",
            "Snap-through analysis: \u001b[1mPositive check (35)\u001b[0m\n",
            "Objective function (weight_tot [kg], cost_tot [€], CO2eqe [kg]): ('86445', '62240', '176694')\n",
            "No savings; surplus: \u001b[1m0.92 %\u001b[0m\n",
            "- kg of steel exceeded: \u001b[1m791 kg\u001b[0m;\n",
            "- Cost exceeded: \u001b[1m569 €\u001b[0m;\n",
            "- kg of CO2 emitted exceeded: \u001b[1m1618 kg\u001b[0m;\n",
            "----------------------------------------------------------------------------------------------------\n",
            "Design variable Aa: \u001b[1m0.161 m^2\u001b[0m\n",
            "Design variable f: \u001b[1m4.00 m\u001b[0m\n",
            "Dependent variable Iy: \u001b[1m0.0265 m^4\u001b[0m\n",
            "Dependent variable Ix: \u001b[1m0.00482 m^4\u001b[0m\n",
            "Design variables: theta = \u001b[1m27.87\u001b[0m, r = \u001b[1m134.97\u001b[0m, C = \u001b[1m848.05\u001b[0m, S = \u001b[1m65.65\u001b[0m\n",
            "Comparison N_Eda & N_Rda: \u001b[1m18140.00 kN, 51959.09 kN\u001b[0m \u001b[1m==> Positive check\u001b[0m\n",
            "Comparison N_Edi & N_Rdi: \u001b[1m17810.00 kN, 199445.45 kN\u001b[0m \u001b[1m==> Positive check\u001b[0m\n",
            "Comparison V_Edi & V_Rdi: \u001b[1m2562.00 kN, 115149.89 kN\u001b[0m \u001b[1m==> Positive check\u001b[0m\n",
            "Comparison M_Edi & M_Rdi: \u001b[1m20373.00 kN m, 211709.09 kN m\u001b[0m \u001b[1m==> Positive check\u001b[0m\n",
            "Buckling check: \u001b[1mSecond order analysis required\u001b[0m\n",
            "Snap-through analysis: \u001b[1mPositive check (35)\u001b[0m\n",
            "Objective function (weight_tot [kg], cost_tot [€], CO2eqe [kg]): ('82966', '59735', '169582')\n",
            "- kg of steel saved: \u001b[1m2688 kg\u001b[0m;\n",
            "- Cost saved: \u001b[1m1936 €\u001b[0m;\n",
            "- kg of CO2 emitted saved: \u001b[1m5494 kg\u001b[0m;\n",
            "Savings: \u001b[1m3.14 %\u001b[0m\n",
            "----------------------------------------------------------------------------------------------------\n",
            "Design variable Aa: \u001b[1m0.153 m^2\u001b[0m\n",
            "Design variable f: \u001b[1m6.00 m\u001b[0m\n",
            "Dependent variable Iy: \u001b[1m0.0252 m^4\u001b[0m\n",
            "Dependent variable Ix: \u001b[1m0.00332 m^4\u001b[0m\n",
            "Design variables: theta = \u001b[1m41.8\u001b[0m, r = \u001b[1m91.1\u001b[0m, C = \u001b[1m572.42\u001b[0m, S = \u001b[1m66.46\u001b[0m\n",
            "Comparison N_Eda & N_Rda: \u001b[1m13880.00 kN, 49377.27 kN\u001b[0m \u001b[1m==> Positive check\u001b[0m\n",
            "Comparison N_Edi & N_Rdi: \u001b[1m13338.00 kN, 199445.45 kN\u001b[0m \u001b[1m==> Positive check\u001b[0m\n",
            "Comparison V_Edi & V_Rdi: \u001b[1m2214.00 kN, 115149.89 kN\u001b[0m \u001b[1m==> Positive check\u001b[0m\n",
            "Comparison M_Edi & M_Rdi: \u001b[1m14466.00 kN m, 211709.09 kN m\u001b[0m \u001b[1m==> Positive check\u001b[0m\n",
            "Buckling check: \u001b[1mSecond order analysis not required\u001b[0m\n",
            "Snap-through analysis: \u001b[1mPositive check (42)\u001b[0m\n",
            "Objective function (weight_tot [kg], cost_tot [€], CO2eqe [kg]): ('79827', '57475', '163166')\n",
            "- kg of steel saved: \u001b[1m5827 kg\u001b[0m;\n",
            "- Cost saved: \u001b[1m4196 €\u001b[0m;\n",
            "- kg of CO2 emitted saved: \u001b[1m11910 kg\u001b[0m;\n",
            "Savings: \u001b[1m6.80 %\u001b[0m\n",
            "----------------------------------------------------------------------------------------------------\n",
            "Design variable Aa: \u001b[1m0.156 m^2\u001b[0m\n",
            "Design variable f: \u001b[1m8.00 m\u001b[0m\n",
            "Dependent variable Iy: \u001b[1m0.0214 m^4\u001b[0m\n",
            "Dependent variable Ix: \u001b[1m0.00366 m^4\u001b[0m\n",
            "Design variables: theta = \u001b[1m55.73\u001b[0m, r = \u001b[1m69.53\u001b[0m, C = \u001b[1m436.88\u001b[0m, S = \u001b[1m67.64\u001b[0m\n",
            "Comparison N_Eda & N_Rda: \u001b[1m11273.00 kN, 50345.45 kN\u001b[0m \u001b[1m==> Positive check\u001b[0m\n",
            "Comparison N_Edi & N_Rdi: \u001b[1m10525.00 kN, 199445.45 kN\u001b[0m \u001b[1m==> Positive check\u001b[0m\n",
            "Comparison V_Edi & V_Rdi: \u001b[1m2063.00 kN, 115149.89 kN\u001b[0m \u001b[1m==> Positive check\u001b[0m\n",
            "Comparison M_Edi & M_Rdi: \u001b[1m12033.00 kN m, 211709.09 kN m\u001b[0m \u001b[1m==> Positive check\u001b[0m\n",
            "Buckling check: \u001b[1mSecond order analysis not required\u001b[0m\n",
            "Snap-through analysis: \u001b[1mPositive check (42)\u001b[0m\n",
            "Objective function (weight_tot [kg], cost_tot [€], CO2eqe [kg]): ('82826', '59635', '169296')\n",
            "- kg of steel saved: \u001b[1m2828 kg\u001b[0m;\n",
            "- Cost saved: \u001b[1m2036 €\u001b[0m;\n",
            "- kg of CO2 emitted saved: \u001b[1m5780 kg\u001b[0m;\n",
            "Savings: \u001b[1m3.30 %\u001b[0m\n",
            "----------------------------------------------------------------------------------------------------\n",
            "Design variable Aa: \u001b[1m0.156 m^2\u001b[0m\n",
            "Design variable f: \u001b[1m10.00 m\u001b[0m\n",
            "Dependent variable Iy: \u001b[1m0.0294 m^4\u001b[0m\n",
            "Dependent variable Ix: \u001b[1m0.00389 m^4\u001b[0m\n",
            "Design variables: theta = \u001b[1m69.67\u001b[0m, r = \u001b[1m56.9\u001b[0m, C = \u001b[1m357.51\u001b[0m, S = \u001b[1m69.18\u001b[0m\n",
            "Comparison N_Eda & N_Rda: \u001b[1m9547.00 kN, 50345.45 kN\u001b[0m \u001b[1m==> Positive check\u001b[0m\n",
            "Comparison N_Edi & N_Rdi: \u001b[1m8609.00 kN, 199445.45 kN\u001b[0m \u001b[1m==> Positive check\u001b[0m\n",
            "Comparison V_Edi & V_Rdi: \u001b[1m1996.00 kN, 115149.89 kN\u001b[0m \u001b[1m==> Positive check\u001b[0m\n",
            "Comparison M_Edi & M_Rdi: \u001b[1m11253.00 kN m, 211709.09 kN m\u001b[0m \u001b[1m==> Positive check\u001b[0m\n",
            "Buckling check: \u001b[1mSecond order analysis not required\u001b[0m\n",
            "Snap-through analysis: \u001b[1mPositive check (13)\u001b[0m\n",
            "Objective function (weight_tot [kg], cost_tot [€], CO2eqe [kg]): ('84722', '61000', '173173')\n",
            "- kg of steel saved: \u001b[1m932 kg\u001b[0m;\n",
            "- Cost saved: \u001b[1m671 €\u001b[0m;\n",
            "- kg of CO2 emitted saved: \u001b[1m1903 kg\u001b[0m;\n",
            "Savings: \u001b[1m1.09 %\u001b[0m\n",
            "----------------------------------------------------------------------------------------------------\n"
          ]
        }
      ]
    }
  ]
}